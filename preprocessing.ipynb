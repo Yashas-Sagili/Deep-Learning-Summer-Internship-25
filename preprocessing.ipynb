{
 "cells": [
  {
   "cell_type": "code",
   "execution_count": null,
   "id": "164c1970-523a-4dc4-a622-f518ea1915f4",
   "metadata": {},
   "outputs": [],
   "source": [
    "import os\n",
    "import cv2\n",
    "import numpy as np\n",
    "from sklearn.utils import shuffle\n",
    "from tensorflow.keras.utils import to_categorical\n",
    "\n",
    "def load_data(, img_size=(224, 224), color_mode='grayscale'):\n",
    "    X, y = [], []\n",
    "    label_map = {'NORMAL': 0, 'COVID': 1}\n",
    "    \n",
    "    for label in label_map:\n",
    "        path = os.path.join(data_dir, label)\n",
    "        for img_name in os.listdir(path):\n",
    "            img_path = os.path.join(path, img_name)\n",
    "            img = cv2.imread(img_path, cv2.IMREAD_GRAYSCALE if color_mode=='grayscale' else cv2.IMREAD_COLOR)\n",
    "            if img is not None:\n",
    "                img = cv2.resize(img, img_size)\n",
    "                if color_mode == 'grayscale':\n",
    "                    img = np.expand_dims(img, axis=-1)  # shape: (224,224,1)\n",
    "                X.append(img)\n",
    "                y.append(label_map[label])\n",
    "    \n",
    "    X = np.array(X, dtype='float32') / 255.0\n",
    "    y = np.array(y)\n",
    "    X, y = shuffle(X, y, random_state=42)\n",
    "    return X, y\n"
   ]
  }
 ],
 "metadata": {
  "kernelspec": {
   "display_name": "Python (tensorflow_env)",
   "language": "python",
   "name": "tensorflow_env"
  },
  "language_info": {
   "codemirror_mode": {
    "name": "ipython",
    "version": 3
   },
   "file_extension": ".py",
   "mimetype": "text/x-python",
   "name": "python",
   "nbconvert_exporter": "python",
   "pygments_lexer": "ipython3",
   "version": "3.10.16"
  }
 },
 "nbformat": 4,
 "nbformat_minor": 5
}
