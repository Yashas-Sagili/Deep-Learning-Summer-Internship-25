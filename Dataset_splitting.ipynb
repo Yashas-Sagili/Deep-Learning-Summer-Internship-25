{
 "cells": [
  {
   "cell_type": "code",
   "execution_count": 1,
   "id": "2f33d875-24dd-4dfb-b3eb-12f6b87bafbd",
   "metadata": {},
   "outputs": [
    {
     "name": "stderr",
     "output_type": "stream",
     "text": [
      "TRAIN - COVID: 100%|███████████████████████████████████████████████████████████████| 2531/2531 [00:31<00:00, 81.02it/s]\n",
      "VAL - COVID: 100%|███████████████████████████████████████████████████████████████████| 542/542 [00:06<00:00, 81.95it/s]\n",
      "TEST - COVID: 100%|██████████████████████████████████████████████████████████████████| 543/543 [00:07<00:00, 76.60it/s]\n",
      "TRAIN - Normal: 100%|██████████████████████████████████████████████████████████████| 7134/7134 [01:35<00:00, 74.84it/s]\n",
      "VAL - Normal: 100%|████████████████████████████████████████████████████████████████| 1528/1528 [00:19<00:00, 78.31it/s]\n",
      "TEST - Normal: 100%|███████████████████████████████████████████████████████████████| 1530/1530 [00:19<00:00, 77.03it/s]\n"
     ]
    }
   ],
   "source": [
    "import os\n",
    "import shutil\n",
    "import random\n",
    "from tqdm import tqdm\n",
    "\n",
    "def prepare_dataset(src_root, dest_root, label_list=['COVID', 'Normal'], split_ratio=(0.7, 0.15, 0.15)):\n",
    "    assert sum(split_ratio) == 1.0, \"Ratios must sum to 1.0\"\n",
    "    os.makedirs(dest_root, exist_ok=True)\n",
    "\n",
    "    for label in label_list:\n",
    "        src_dir = os.path.join(src_root, label, 'images')\n",
    "        files = os.listdir(src_dir)\n",
    "        random.shuffle(files)\n",
    "\n",
    "        n_total = len(files)\n",
    "        n_train = int(split_ratio[0] * n_total)\n",
    "        n_val = int(split_ratio[1] * n_total)\n",
    "\n",
    "        split_sets = {\n",
    "            'train': files[:n_train],\n",
    "            'val': files[n_train:n_train + n_val],\n",
    "            'test': files[n_train + n_val:]\n",
    "        }\n",
    "\n",
    "        for split in ['train', 'val', 'test']:\n",
    "            dest_dir = os.path.join(dest_root, split, label.upper())\n",
    "            os.makedirs(dest_dir, exist_ok=True)\n",
    "            for fname in tqdm(split_sets[split], desc=f\"{split.upper()} - {label}\"):\n",
    "                src_file = os.path.join(src_dir, fname)\n",
    "                dest_file = os.path.join(dest_dir, fname)\n",
    "                shutil.copy(src_file, dest_file)\n",
    "\n",
    "# Usage\n",
    "source = r\"E:\\covid_xray_classification\\data\\COVID-19_Radiography_Dataset\"\n",
    "target = r\"E:\\covid_xray_classification\\data\"\n",
    "prepare_dataset(source, target, label_list=['COVID', 'Normal'])\n"
   ]
  },
  {
   "cell_type": "code",
   "execution_count": null,
   "id": "9e192897-02e0-45e7-945d-18e27a5fc49f",
   "metadata": {},
   "outputs": [],
   "source": []
  }
 ],
 "metadata": {
  "kernelspec": {
   "display_name": "Python (tensorflow_env)",
   "language": "python",
   "name": "tensorflow_env"
  },
  "language_info": {
   "codemirror_mode": {
    "name": "ipython",
    "version": 3
   },
   "file_extension": ".py",
   "mimetype": "text/x-python",
   "name": "python",
   "nbconvert_exporter": "python",
   "pygments_lexer": "ipython3",
   "version": "3.10.16"
  }
 },
 "nbformat": 4,
 "nbformat_minor": 5
}
